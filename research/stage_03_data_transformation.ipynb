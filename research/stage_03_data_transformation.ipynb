{
 "cells": [
  {
   "cell_type": "code",
   "execution_count": 1,
   "metadata": {},
   "outputs": [],
   "source": [
    "import os   "
   ]
  },
  {
   "cell_type": "code",
   "execution_count": 2,
   "metadata": {},
   "outputs": [
    {
     "data": {
      "text/plain": [
       "'c:\\\\Users\\\\ParagJadhav\\\\Downloads\\\\ML_Projects\\\\red_wine\\\\red_wine_quality_prediction\\\\research'"
      ]
     },
     "execution_count": 2,
     "metadata": {},
     "output_type": "execute_result"
    }
   ],
   "source": [
    "%pwd"
   ]
  },
  {
   "cell_type": "code",
   "execution_count": 3,
   "metadata": {},
   "outputs": [],
   "source": [
    "os.chdir(\"../\")"
   ]
  },
  {
   "cell_type": "code",
   "execution_count": 4,
   "metadata": {},
   "outputs": [
    {
     "data": {
      "text/plain": [
       "'c:\\\\Users\\\\ParagJadhav\\\\Downloads\\\\ML_Projects\\\\red_wine\\\\red_wine_quality_prediction'"
      ]
     },
     "execution_count": 4,
     "metadata": {},
     "output_type": "execute_result"
    }
   ],
   "source": [
    "%pwd"
   ]
  },
  {
   "cell_type": "code",
   "execution_count": 5,
   "metadata": {},
   "outputs": [],
   "source": [
    "from dataclasses import dataclass\n",
    "from pathlib import Path\n",
    "\n",
    "\n",
    "@dataclass(frozen=True)\n",
    "class DataTransformationConfig:\n",
    "    root_dir: Path\n",
    "    data_path: Path\n",
    "    features_column: list\n",
    "    target_column: str\n",
    "    preprocessor_name: str"
   ]
  },
  {
   "cell_type": "code",
   "execution_count": 6,
   "metadata": {},
   "outputs": [],
   "source": [
    "from mlproject.constant import *\n",
    "from mlproject.utils.common import read_yaml, create_directories\n",
    "\n",
    "from mlproject.exception import CustomException\n",
    "import sys\n"
   ]
  },
  {
   "cell_type": "code",
   "execution_count": 7,
   "metadata": {},
   "outputs": [],
   "source": [
    "class ConfigurationManager:\n",
    "    def __init__(\n",
    "        self,\n",
    "        config_filepath = CONFIG_FILE_PATH,\n",
    "        params_filepath = PARAMS_FILE_PATH,\n",
    "        schema_filepath = SCHEMA_FILE_PATH):\n",
    "\n",
    "        self.config = read_yaml(config_filepath)\n",
    "        self.params = read_yaml(params_filepath)\n",
    "        self.schema = read_yaml(schema_filepath)\n",
    "\n",
    "        create_directories([self.config.artifacts_root])\n",
    "\n",
    "    \n",
    "    def get_data_transformation_config(self) -> DataTransformationConfig:\n",
    "        config = self.config.data_transformation\n",
    "        schema_feature = self.schema.COLUMNS\n",
    "        schema_target =  self.schema.TARGET_COLUMN\n",
    "\n",
    "        create_directories([config.root_dir])\n",
    "\n",
    "        data_transformation_config = DataTransformationConfig(\n",
    "            root_dir=config.root_dir,\n",
    "            data_path=config.data_path,\n",
    "            features_column = schema_feature,\n",
    "            target_column = schema_target.name,\n",
    "            preprocessor_name = config.preprocessor_name,\n",
    "        )\n",
    "\n",
    "        return data_transformation_config"
   ]
  },
  {
   "cell_type": "code",
   "execution_count": 8,
   "metadata": {},
   "outputs": [],
   "source": [
    "import os\n",
    "from src.mlproject import logger\n",
    "from sklearn.model_selection import train_test_split\n",
    "import pandas as pd\n",
    "import numpy as np\n",
    "from mlproject.utils.common import save_bin\n",
    "\n",
    "\n",
    "from sklearn.preprocessing import OneHotEncoder, StandardScaler\n",
    "from sklearn.decomposition import PCA, TruncatedSVD\n",
    "from sklearn.compose import ColumnTransformer\n",
    "from sklearn.impute import SimpleImputer\n",
    "from sklearn.pipeline import Pipeline"
   ]
  },
  {
   "cell_type": "code",
   "execution_count": 9,
   "metadata": {},
   "outputs": [],
   "source": [
    "class DataTransformation:\n",
    "    def __init__(self, config: DataTransformationConfig):\n",
    "        self.config = config\n",
    "\n",
    "    def train_test_spliting(self):\n",
    "        try:\n",
    "            logger.info(\"Started the Spliting the data into training and test sets\")\n",
    "\n",
    "            data = pd.read_csv(self.config.data_path)\n",
    "            train, test = train_test_split(data, test_size = 0.2, random_state = 42)            \n",
    "            logger.info(\"Successfully splited data into training and test sets\")\n",
    "\n",
    "            return train, test\n",
    "        \n",
    "        except Exception as e:\n",
    "            raise CustomException(e, sys)\n",
    "        \n",
    "    \n",
    "    def get_data_transformer_object(self):\n",
    "        '''\n",
    "        This function si responsible for data trnasformation\n",
    "        \n",
    "        '''\n",
    "        try:\n",
    "\n",
    "            logger.info(\"Starting Pipeline construction\")\n",
    "            features_column = self.config.features_column\n",
    "            target_column = self.config.target_column\n",
    "\n",
    "            categorical_columns = [col for col, dtype in features_column.items() if dtype == 'obj' and col !=  target_column]\n",
    "            numerical_columns = [col for col, dtype in features_column.items() if dtype != 'obj' and col != target_column]\n",
    "\n",
    "\n",
    "            num_pipeline=Pipeline(steps=[\n",
    "                (\"imputer\",SimpleImputer(strategy='median')),\n",
    "                ('scalar',StandardScaler()),\n",
    "                ('TruncatedSVD', TruncatedSVD(5))\n",
    "                ])\n",
    "            \n",
    "            cat_pipeline=Pipeline(steps=[\n",
    "                (\"imputer\",SimpleImputer(strategy=\"most_frequent\")),\n",
    "                (\"one_hot_encoder\",OneHotEncoder(handle_unknown='ignore')),\n",
    "                (\"scaler\",StandardScaler(with_mean=False)),\n",
    "                ('TruncatedSVD', TruncatedSVD(5))\n",
    "                ])\n",
    "\n",
    "            logger.info(f\"Before ColumnTransformer: Categorical Columns: {categorical_columns}\")\n",
    "            logger.info(f\"Before ColumnTransformer: Numerical Columns: {numerical_columns}\")\n",
    "\n",
    "            preprocessor=ColumnTransformer(\n",
    "                [\n",
    "                    (\"num_pipeline\",num_pipeline,numerical_columns),\n",
    "                    (\"cat_pipeline\",cat_pipeline,categorical_columns)\n",
    "                ]\n",
    "                )\n",
    "            \n",
    "            return preprocessor\n",
    "        except Exception as e:\n",
    "            raise CustomException(e, sys)\n",
    "    \n",
    "\n",
    "    def initiate_data_transormation(self):\n",
    "        try:\n",
    "            logger.info(\"Started spliting data into X_train, y_train and X_test, y_test\")\n",
    "            train, test = self.train_test_spliting() \n",
    "            target_column = self.config.target_column\n",
    "            \n",
    "\n",
    "            X_train = train.drop(columns = [target_column], axis=1)\n",
    "            y_train = train[target_column]\n",
    "\n",
    "            X_test = test.drop(columns = [target_column], axis=1)\n",
    "            y_test = test[target_column]\n",
    "\n",
    "            logger.info(\"Successfully splited data into X_train, y_train and X_test, y_test\")\n",
    "            logger.info(f'Shape of X_train: {X_train.shape}')\n",
    "            logger.info(f'Shape of y_train:  {y_train.shape}')\n",
    "            logger.info(f'Shape of X_test:  {X_test.shape}')\n",
    "            logger.info(f'Shape of y_test:  {y_test.shape}')\n",
    "\n",
    "            \n",
    "            logger.info(\"Reading the preprocessor pipeline object for training\")\n",
    "            preprocessing_obj=self.get_data_transformer_object()\n",
    "\n",
    "            logger.info(\"Applying Preprocessing on training and test dataframe\")\n",
    "            input_feature_train_arr = preprocessing_obj.fit_transform(X_train)\n",
    "            input_feature_test_arr = preprocessing_obj.transform(X_test)\n",
    "\n",
    "            df_train = np.c_[input_feature_train_arr, np.array(y_train)]\n",
    "            df_test = np.c_[input_feature_test_arr, np.array(y_test)]\n",
    "            logger.info(f\"df_train.shape: {df_train.shape}\")\n",
    "            logger.info(f\"df_test.shape: {df_test.shape}\")\n",
    "\n",
    "            df_train = pd.DataFrame(df_train)\n",
    "            df_test = pd.DataFrame(df_test)\n",
    "            df_train.to_csv(os.path.join(self.config.root_dir, \"df_train.csv\"),index = False)\n",
    "            df_test.to_csv(os.path.join(self.config.root_dir, \"df_test.csv\"),index = False)\n",
    "            \n",
    "            logger.info(f\"Successfully saved the df_train and df_test after preprocessing\") \n",
    "            logger.info(f'Shape of Training dataset df_train.shape: {df_train.shape}')\n",
    "            logger.info(f'Shape of Testing dataset df_test.shape: {df_test.shape}')\n",
    "\n",
    "            save_bin(preprocessing_obj, os.path.join(self.config.root_dir, self.config.preprocessor_name))\n",
    "            logger.info(f\"Saved preprocessing object\")  \n",
    "   \n",
    "        except Exception as e:\n",
    "            raise CustomException(e, sys)"
   ]
  },
  {
   "cell_type": "code",
   "execution_count": 10,
   "metadata": {},
   "outputs": [
    {
     "name": "stdout",
     "output_type": "stream",
     "text": [
      "[2024-05-17 11:19:37,623: line_number-45: INFO: common: yaml file: config\\config.yaml loaded successfully]\n",
      "[2024-05-17 11:19:37,637: line_number-45: INFO: common: yaml file: params.yaml loaded successfully]\n",
      "[2024-05-17 11:19:37,650: line_number-45: INFO: common: yaml file: schema.yaml loaded successfully]\n",
      "[2024-05-17 11:19:37,653: line_number-83: INFO: common: created directory at: artifacts]\n",
      "[2024-05-17 11:19:37,657: line_number-83: INFO: common: created directory at: artifacts/data_transformation]\n",
      "[2024-05-17 11:19:37,658: line_number-7: INFO: 1959067773: Started the Spliting the data into training and test sets]\n",
      "[2024-05-17 11:19:37,673: line_number-11: INFO: 1959067773: Successfully splited data into training and test sets]\n",
      "[2024-05-17 11:19:37,680: line_number-26: INFO: 1959067773: Starting Pipeline construction]\n",
      "[2024-05-17 11:19:37,685: line_number-47: INFO: 1959067773: Before ColumnTransformer: Categorical Columns: []]\n",
      "[2024-05-17 11:19:37,686: line_number-48: INFO: 1959067773: Before ColumnTransformer: Numerical Columns: ['fixed acidity', 'volatile acidity', 'citric acid', 'residual sugar', 'chlorides', 'free sulfur dioxide', 'total sulfur dioxide', 'density', 'pH', 'sulphates', 'alcohol']]\n",
      "[2024-05-17 11:19:37,690: line_number-64: INFO: 1959067773: Started spliting data into X_train, y_train and X_test, y_test]\n",
      "[2024-05-17 11:19:37,692: line_number-7: INFO: 1959067773: Started the Spliting the data into training and test sets]\n",
      "[2024-05-17 11:19:37,706: line_number-11: INFO: 1959067773: Successfully splited data into training and test sets]\n",
      "[2024-05-17 11:19:37,714: line_number-75: INFO: 1959067773: Successfully splited data into X_train, y_train and X_test, y_test]\n",
      "[2024-05-17 11:19:37,714: line_number-76: INFO: 1959067773: Shape of X_train: (1279, 11)]\n",
      "[2024-05-17 11:19:37,714: line_number-77: INFO: 1959067773: Shape of y_train:  (1279,)]\n",
      "[2024-05-17 11:19:37,722: line_number-78: INFO: 1959067773: Shape of X_test:  (320, 11)]\n",
      "[2024-05-17 11:19:37,722: line_number-79: INFO: 1959067773: Shape of y_test:  (320,)]\n",
      "[2024-05-17 11:19:37,722: line_number-82: INFO: 1959067773: Reading the preprocessor pipeline object for training]\n",
      "[2024-05-17 11:19:37,722: line_number-26: INFO: 1959067773: Starting Pipeline construction]\n",
      "[2024-05-17 11:19:37,731: line_number-47: INFO: 1959067773: Before ColumnTransformer: Categorical Columns: []]\n",
      "[2024-05-17 11:19:37,734: line_number-48: INFO: 1959067773: Before ColumnTransformer: Numerical Columns: ['fixed acidity', 'volatile acidity', 'citric acid', 'residual sugar', 'chlorides', 'free sulfur dioxide', 'total sulfur dioxide', 'density', 'pH', 'sulphates', 'alcohol']]\n",
      "[2024-05-17 11:19:37,736: line_number-85: INFO: 1959067773: Applying Preprocessing on training and test dataframe]\n",
      "[2024-05-17 11:19:37,861: line_number-91: INFO: 1959067773: df_train.shape: (1279, 6)]\n",
      "[2024-05-17 11:19:37,861: line_number-92: INFO: 1959067773: df_test.shape: (320, 6)]\n",
      "[2024-05-17 11:19:37,886: line_number-99: INFO: 1959067773: Successfully saved the df_train and df_test after preprocessing]\n",
      "[2024-05-17 11:19:37,886: line_number-100: INFO: 1959067773: Shape of Training dataset df_train.shape: (1279, 6)]\n",
      "[2024-05-17 11:19:37,886: line_number-101: INFO: 1959067773: Shape of Testing dataset df_test.shape: (320, 6)]\n",
      "[2024-05-17 11:19:37,895: line_number-125: INFO: common: binary file saved at: artifacts/data_transformation\\preprocessor.joblib]\n",
      "[2024-05-17 11:19:37,896: line_number-104: INFO: 1959067773: Saved preprocessing object]\n"
     ]
    }
   ],
   "source": [
    "try:\n",
    "    config = ConfigurationManager()\n",
    "    data_transformation_config = config.get_data_transformation_config()\n",
    "    data_transformation = DataTransformation(config=data_transformation_config)\n",
    "    data_transformation.train_test_spliting()\n",
    "    data_transformation.get_data_transformer_object()\n",
    "    data_transformation.initiate_data_transormation()\n",
    "except Exception as e:\n",
    "    raise CustomException(e, sys)"
   ]
  },
  {
   "cell_type": "code",
   "execution_count": null,
   "metadata": {},
   "outputs": [],
   "source": []
  }
 ],
 "metadata": {
  "kernelspec": {
   "display_name": "Python 3",
   "language": "python",
   "name": "python3"
  },
  "language_info": {
   "codemirror_mode": {
    "name": "ipython",
    "version": 3
   },
   "file_extension": ".py",
   "mimetype": "text/x-python",
   "name": "python",
   "nbconvert_exporter": "python",
   "pygments_lexer": "ipython3",
   "version": "3.12.3"
  }
 },
 "nbformat": 4,
 "nbformat_minor": 2
}
