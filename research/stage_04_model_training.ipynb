{
 "cells": [
  {
   "cell_type": "code",
   "execution_count": 1,
   "metadata": {},
   "outputs": [],
   "source": [
    "from dataclasses import dataclass\n",
    "from pathlib import Path\n",
    "import joblib\n",
    "\n",
    "import yaml\n",
    "import pandas as pd\n",
    "import os\n",
    "\n",
    "from sklearn.datasets import load_diabetes\n",
    "from sklearn.model_selection import train_test_split\n",
    "from sklearn.model_selection import GridSearchCV\n",
    "from sklearn.ensemble import RandomForestRegressor, GradientBoostingRegressor, AdaBoostRegressor\n",
    "from sklearn.tree import DecisionTreeRegressor\n",
    "from sklearn.metrics import r2_score\n",
    "\n",
    "from mlproject.exception import CustomException\n",
    "import sys\n",
    "\n",
    "from mlproject.constant import CONFIG_FILE_PATH, ML_MODEL_FILE_PATH, PARAMS_FILE_PATH, SCHEMA_FILE_PATH\n",
    "\n",
    "from mlproject import logger\n",
    "from mlproject.utils.common import create_directories, read_yaml, read_ml_model_yaml, save_bin\n",
    "from box import ConfigBox "
   ]
  },
  {
   "cell_type": "code",
   "execution_count": 2,
   "metadata": {},
   "outputs": [
    {
     "data": {
      "text/plain": [
       "'c:\\\\Users\\\\ParagJadhav\\\\Downloads\\\\ML_Projects\\\\red_wine\\\\red_wine_quality_prediction\\\\research'"
      ]
     },
     "execution_count": 2,
     "metadata": {},
     "output_type": "execute_result"
    }
   ],
   "source": [
    "%pwd"
   ]
  },
  {
   "cell_type": "code",
   "execution_count": 3,
   "metadata": {},
   "outputs": [],
   "source": [
    "os.chdir('../')"
   ]
  },
  {
   "cell_type": "code",
   "execution_count": 4,
   "metadata": {},
   "outputs": [
    {
     "data": {
      "text/plain": [
       "'c:\\\\Users\\\\ParagJadhav\\\\Downloads\\\\ML_Projects\\\\red_wine\\\\red_wine_quality_prediction'"
      ]
     },
     "execution_count": 4,
     "metadata": {},
     "output_type": "execute_result"
    }
   ],
   "source": [
    "%pwd"
   ]
  },
  {
   "cell_type": "code",
   "execution_count": 5,
   "metadata": {},
   "outputs": [],
   "source": [
    "@dataclass(frozen=True)\n",
    "class ModelTrainerConfig:\n",
    "    root_dir: Path\n",
    "    train_data_path: Path\n",
    "    test_data_path: Path\n",
    "    model_name: str\n",
    "    params: dict\n",
    "    ml_models: object\n",
    "    target_column: str"
   ]
  },
  {
   "cell_type": "code",
   "execution_count": 6,
   "metadata": {},
   "outputs": [],
   "source": [
    "class ConfigurationManager:\n",
    "    def __init__(\n",
    "        self,\n",
    "        config_filepath = CONFIG_FILE_PATH, #constant/__init__.py file gives the path of config.yaml file\n",
    "        params_filepath = PARAMS_FILE_PATH, \n",
    "        schema_filepath = SCHEMA_FILE_PATH,\n",
    "        ml_model_filepath = ML_MODEL_FILE_PATH): \n",
    "        \n",
    "        self.config = read_yaml(config_filepath) #whatever is present inside the config.yaml file, it will read the it by providing the path of the config.yaml file.\n",
    "        self.params = read_yaml(params_filepath)\n",
    "        self.schema = read_yaml(schema_filepath)\n",
    "        self.ml_model = read_ml_model_yaml(ml_model_filepath)\n",
    "            \n",
    "        create_directories([self.config.artifacts_root]) #create the \"artifacts\" directory and name is present inside the config.yaml file.\n",
    "\n",
    "        \n",
    "    def get_model_trainer_config(self) -> ModelTrainerConfig:\n",
    "        \n",
    "        config = self.config.model_trainer\n",
    "        schema =  self.schema.TARGET_COLUMN\n",
    "        params = self.params\n",
    "        ml_model = self.ml_model\n",
    "\n",
    "        create_directories([config.root_dir])\n",
    "        \n",
    "        model_trainer_config = ModelTrainerConfig(\n",
    "            root_dir=config.root_dir,\n",
    "            train_data_path = config.train_data_path,\n",
    "            test_data_path = config.test_data_path,\n",
    "            model_name = config.model_name,\n",
    "            target_column = schema.name,\n",
    "            params = params,\n",
    "            ml_models = ml_model\n",
    "            )\n",
    "\n",
    "        return model_trainer_config"
   ]
  },
  {
   "cell_type": "code",
   "execution_count": 7,
   "metadata": {},
   "outputs": [],
   "source": [
    "class ModelTrainer:\n",
    "    def __init__(self, config: ModelTrainerConfig):\n",
    "        self.config = config\n",
    "\n",
    "\n",
    "    \n",
    "    def data_spliting(self):\n",
    "        train_data = pd.read_csv(self.config.train_data_path)\n",
    "        test_data = pd.read_csv(self.config.test_data_path)\n",
    "\n",
    "        self.X_train = train_data.drop([self.config.target_column], axis=1)\n",
    "        self.X_test = test_data.drop([self.config.target_column], axis=1)\n",
    "        self.y_train = train_data[[self.config.target_column]]\n",
    "        self.y_test = test_data[[self.config.target_column]]\n",
    "\n",
    "\n",
    "    def hyper_parameter_tunning(self):\n",
    "        \n",
    "        try:\n",
    "            models= self.config.ml_models\n",
    "            for key in models.keys():\n",
    "                models[key] = globals()[models[key]]()\n",
    "\n",
    "            params = self.config.params\n",
    "            X_train = self.X_train\n",
    "            y_train = self.y_train.values.ravel()\n",
    "            report = {}\n",
    "\n",
    "            for i in range(len(list(models))):\n",
    "                \n",
    "                model = list(models.values())[i]\n",
    "                para = params[list(models.keys())[i]]\n",
    "                \n",
    "                gs = GridSearchCV(model,para,cv=3, n_jobs=-1)\n",
    "                gs.fit(X_train,y_train)\n",
    "                model.set_params(**gs.best_params_)\n",
    "                model.fit(X_train,y_train)\n",
    "                \n",
    "                y_train_pred = model.predict(X_train)\n",
    "                train_model_score = r2_score(y_train, y_train_pred)\n",
    "                report[list(models.keys())[i]] = train_model_score\n",
    "                best_model_score = max(sorted(report.values()))\n",
    "                best_model_name = list(report.keys())[list(report.values()).index(best_model_score)]\n",
    "                \n",
    "                best_model = models[best_model_name]\n",
    "            \n",
    "            #print(report)\n",
    "            if best_model_score<0.6:\n",
    "                raise CustomException(\"No best model found\")\n",
    "                \n",
    "            logger.info(f\"Best found model on both training and testing dataset\")\n",
    "                \n",
    "            save_bin(best_model, os.path.join(self.config.root_dir, self.config.model_name))\n",
    "\n",
    "        except Exception as e:\n",
    "            raise CustomException(e, sys)"
   ]
  },
  {
   "cell_type": "code",
   "execution_count": 8,
   "metadata": {},
   "outputs": [
    {
     "name": "stdout",
     "output_type": "stream",
     "text": [
      "[2024-05-17 08:05:59,496: line_number-45: INFO: common: yaml file: config\\config.yaml loaded successfully]\n"
     ]
    },
    {
     "name": "stdout",
     "output_type": "stream",
     "text": [
      "[2024-05-17 08:05:59,513: line_number-45: INFO: common: yaml file: params.yaml loaded successfully]\n",
      "[2024-05-17 08:05:59,525: line_number-45: INFO: common: yaml file: schema.yaml loaded successfully]\n",
      "[2024-05-17 08:05:59,530: line_number-67: INFO: common: ml_model.yaml file: ml_model.yaml loaded successfully]\n",
      "[2024-05-17 08:05:59,530: line_number-83: INFO: common: created directory at: artifacts]\n",
      "[2024-05-17 08:05:59,540: line_number-83: INFO: common: created directory at: artifacts/model_trainer]\n",
      "[2024-05-17 08:06:13,845: line_number-51: INFO: 116133265: Best found model on both training and testing dataset]\n",
      "[2024-05-17 08:06:13,853: line_number-125: INFO: common: binary file saved at: artifacts/model_trainer\\model.joblib]\n"
     ]
    }
   ],
   "source": [
    "try:\n",
    "    config = ConfigurationManager()\n",
    "    model_trainer_config = config.get_model_trainer_config()\n",
    "    model_trainer_config = ModelTrainer(config=model_trainer_config)\n",
    "    model_trainer_config.data_spliting()\n",
    "    model_trainer_config.hyper_parameter_tunning()\n",
    "except Exception as e:\n",
    "    raise CustomException(e, sys)"
   ]
  }
 ],
 "metadata": {
  "kernelspec": {
   "display_name": "Python 3",
   "language": "python",
   "name": "python3"
  },
  "language_info": {
   "codemirror_mode": {
    "name": "ipython",
    "version": 3
   },
   "file_extension": ".py",
   "mimetype": "text/x-python",
   "name": "python",
   "nbconvert_exporter": "python",
   "pygments_lexer": "ipython3",
   "version": "3.12.3"
  }
 },
 "nbformat": 4,
 "nbformat_minor": 2
}
